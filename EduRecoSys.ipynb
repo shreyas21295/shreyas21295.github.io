{
 "cells": [
  {
   "cell_type": "markdown",
   "id": "6ad96943",
   "metadata": {},
   "source": [
    "Install the below dependencies before executing the code."
   ]
  },
  {
   "cell_type": "code",
   "execution_count": null,
   "id": "cfbf227c",
   "metadata": {},
   "outputs": [],
   "source": [
    "conda install -c conda-forge googlesearch"
   ]
  },
  {
   "cell_type": "code",
   "execution_count": null,
   "id": "d1f64890",
   "metadata": {},
   "outputs": [],
   "source": [
    "conda install -c conda-forge textstat"
   ]
  },
  {
   "cell_type": "code",
   "execution_count": null,
   "id": "12f7f743",
   "metadata": {},
   "outputs": [],
   "source": [
    "conda install -c conda-forge PyPDF2"
   ]
  },
  {
   "cell_type": "markdown",
   "id": "c9b91dfd",
   "metadata": {},
   "source": [
    "Now we import the recommender.py in the below code section which would return the results for URLs sorted by their difficulty level"
   ]
  },
  {
   "cell_type": "code",
   "execution_count": 6,
   "id": "7b2d33fe",
   "metadata": {},
   "outputs": [],
   "source": [
    "from recommender import results"
   ]
  },
  {
   "cell_type": "markdown",
   "id": "bb307ca2",
   "metadata": {},
   "source": [
    "The input to the results() function is \"topic + difficulty level\". Ex.:\"Decision trees medium\" or \"Decision Trees Medium\" or \"decision TREES MEDIUM\". So the last word always has to be the difficulty level(case insensitive) between easy, medium and hard."
   ]
  },
  {
   "cell_type": "code",
   "execution_count": 2,
   "id": "d4708a67",
   "metadata": {
    "scrolled": true
   },
   "outputs": [
    {
     "name": "stdout",
     "output_type": "stream",
     "text": [
      "Urls fetched and filtered\n",
      "saving Urls now\n"
     ]
    },
    {
     "name": "stderr",
     "output_type": "stream",
     "text": [
      "PdfReadWarning: Xref table not zero-indexed. ID numbers for objects will be corrected. [pdf.py:1736]\n"
     ]
    },
    {
     "name": "stdout",
     "output_type": "stream",
     "text": [
      "The number of URLs fetched after filtering are: 10\n",
      "The URLs for medium difficulty are:\n",
      "http://www.cs.cmu.edu/afs/cs/academic/class/15418-f18/www/lectures/gpu-handout.pdf\n",
      "\n",
      "https://engineering.nyu.edu/sites/default/files/2020-10/CS-UY%204533%20Interactive%20Computer%20Graphics.pdf\n",
      "\n",
      "https://images.nvidia.com/aem-dam/en-zz/Solutions/data-center/nvidia-ampere-architecture-whitepaper.pdf\n",
      "\n",
      "https://inst.eecs.berkeley.edu/~cs152/fa16/lectures/L16-GPU.pdf\n",
      "\n",
      "https://passlab.github.io/CSCE569/notes/lecture_GPUArchCUDA01.pdf\n",
      "\n"
     ]
    },
    {
     "name": "stderr",
     "output_type": "stream",
     "text": [
      "FutureWarning: Using short name for 'orient' is deprecated. Only the options: ('dict', list, 'series', 'split', 'records', 'index') will be used in a future version. Use one of the above to silence this warning. [recommender.py:123]\n"
     ]
    }
   ],
   "source": [
    "results(\"GPU sharing medium\")"
   ]
  },
  {
   "cell_type": "markdown",
   "id": "3b207019",
   "metadata": {},
   "source": [
    "After running the above results() function, if successful, results are also stored in the data.js file (created if doesn't exist) which is the currently used to upload to github to overwrite the data.js file so that these results can be showcased through the web interface as well."
   ]
  },
  {
   "cell_type": "markdown",
   "id": "6af92590",
   "metadata": {},
   "source": [
    "You can also retrieve results for multiple topics at one time as shown below:"
   ]
  },
  {
   "cell_type": "code",
   "execution_count": 7,
   "id": "6fb94029",
   "metadata": {},
   "outputs": [],
   "source": [
    "topics_list = [\"expectation maximization easy\",\"Decision Trees medium\", \"learning to rank easy\", \"language models hard\",\"inverted indices medium\",\n",
    "              \"index construction hard\",\"index compression easy\",\"Probabilistic information retrieval hard\", \"computer vision easy\",\"multi-view geometry hard\", \"edge detection medium\",\n",
    "              \"data abstraction\"]"
   ]
  },
  {
   "cell_type": "code",
   "execution_count": 13,
   "id": "e4b55000",
   "metadata": {},
   "outputs": [
    {
     "name": "stdout",
     "output_type": "stream",
     "text": [
      "Urls fetched and filtered\n",
      "saving Urls now\n",
      "invalid literal for int() with base 8: b'149'\n",
      "Urls fetched and filtered\n",
      "saving Urls now\n",
      "The number of URLs fetched after filtering are: 9\n",
      "Urls fetched and filtered\n",
      "saving Urls now\n",
      "The number of URLs fetched after filtering are: 9\n",
      "Urls fetched and filtered\n",
      "saving Urls now\n",
      "The number of URLs fetched after filtering are: 10\n"
     ]
    }
   ],
   "source": [
    "for i in topics_list:\n",
    "    try:\n",
    "        results(i)\n",
    "    except Exception as e:\n",
    "        print(e)\n",
    "        pass"
   ]
  },
  {
   "cell_type": "code",
   "execution_count": null,
   "id": "4b19b863",
   "metadata": {},
   "outputs": [],
   "source": []
  }
 ],
 "metadata": {
  "kernelspec": {
   "display_name": "Python 3 (ipykernel)",
   "language": "python",
   "name": "python3"
  },
  "language_info": {
   "codemirror_mode": {
    "name": "ipython",
    "version": 3
   },
   "file_extension": ".py",
   "mimetype": "text/x-python",
   "name": "python",
   "nbconvert_exporter": "python",
   "pygments_lexer": "ipython3",
   "version": "3.9.7"
  }
 },
 "nbformat": 4,
 "nbformat_minor": 5
}
