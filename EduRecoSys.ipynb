{
 "cells": [
  {
   "cell_type": "markdown",
   "id": "e563a62b",
   "metadata": {},
   "source": [
    "Install the below dependencies before executing the code."
   ]
  },
  {
   "cell_type": "code",
   "execution_count": null,
   "id": "0ee974ee",
   "metadata": {},
   "outputs": [],
   "source": [
    "conda install -c conda-forge googlesearch"
   ]
  },
  {
   "cell_type": "code",
   "execution_count": null,
   "id": "d1f64890",
   "metadata": {},
   "outputs": [],
   "source": [
    "conda install -c conda-forge textstat"
   ]
  },
  {
   "cell_type": "code",
   "execution_count": null,
   "id": "12f7f743",
   "metadata": {},
   "outputs": [],
   "source": [
    "conda install -c conda-forge PyPDF2"
   ]
  },
  {
   "cell_type": "markdown",
   "id": "35324771",
   "metadata": {},
   "source": [
    "Now we import the recommender.py in the below code section which would return the results for URLs sorted by their difficulty level"
   ]
  },
  {
   "cell_type": "code",
   "execution_count": 1,
   "id": "7b2d33fe",
   "metadata": {},
   "outputs": [],
   "source": [
    "from recommender import results"
   ]
  },
  {
   "cell_type": "markdown",
   "id": "f890c164",
   "metadata": {},
   "source": [
    "The input to the results() function is \"topic + difficulty level\". Ex.:\"Decision trees medium\" or \"Decision Trees Medium\" or \"decision TREES MEDIUM\". So the last word always has to be the difficulty level(case insensitive) between easy, medium and hard."
   ]
  },
  {
   "cell_type": "code",
   "execution_count": 4,
   "id": "d4708a67",
   "metadata": {
    "scrolled": true
   },
   "outputs": [
    {
     "name": "stdout",
     "output_type": "stream",
     "text": [
      "Urls fetched and filtered\n",
      "saving Urls now\n",
      "The number of URLs fetched after filtering are: 10\n",
      "The URLs for medium difficulty are:\n",
      "https://www.math.uci.edu/~rvershyn/papers/four-lectures-probability-data.pdf\n",
      "\n",
      "https://courses.helsinki.fi/sites/default/files/course-material/4537296/IntroDS-01.pdf\n",
      "\n",
      "https://www.iare.ac.in/sites/default/files/lecture_notes/APA%20Lecture%20notes.pdf\n",
      "\n",
      "https://engineering.lehigh.edu/sites/engineering.lehigh.edu/files/ISE444-syllabus%20%281%29.pdf\n",
      "\n",
      "https://homepage.cs.uri.edu/faculty/hamel/courses/2018/spring2018/csc310/lecture-notes/01-What-is-Data-Science.pdf\n",
      "\n"
     ]
    }
   ],
   "source": [
    "results(\"data science medium\")"
   ]
  },
  {
   "cell_type": "markdown",
   "id": "46a2270c",
   "metadata": {},
   "source": [
    "After running the above results() function, if successful, results are also stored in the data.js file (created if doesn't exist) which is the currently used to upload to github to overwrite the data.js file so that these results can be showcased through the web interface as well."
   ]
  },
  {
   "cell_type": "markdown",
   "id": "7de83417",
   "metadata": {},
   "source": [
    "You can also retrieve results for multiple topics at one time unless the error (due to the error as HTTP Error 429: Too Many Requests) doesn't occur as shown below:"
   ]
  },
  {
   "cell_type": "code",
   "execution_count": 6,
   "id": "b003aa33",
   "metadata": {},
   "outputs": [],
   "source": [
    "topics_list = [\"inverted indices medium\",\"index construction hard\",\"index compression easy\",\n",
    "               \"Probabilistic information retrieval hard\", \"computer vision easy\",\n",
    "               \"multi-view geometry hard\", \"edge detection medium\",\n",
    "              \"data abstraction medium\", \"trigonometry easy\", \"python hard\", \"GPU sharing medium\"]"
   ]
  },
  {
   "cell_type": "code",
   "execution_count": null,
   "id": "e70bf8d2",
   "metadata": {},
   "outputs": [],
   "source": [
    "for i in topics_list:\n",
    "    try:\n",
    "        results(i)\n",
    "    except Exception as e:\n",
    "        print(\"Couldn't process topic \"+i+\" due to the error as\",e)\n",
    "        pass"
   ]
  }
 ],
 "metadata": {
  "kernelspec": {
   "display_name": "Python 3 (ipykernel)",
   "language": "python",
   "name": "python3"
  },
  "language_info": {
   "codemirror_mode": {
    "name": "ipython",
    "version": 3
   },
   "file_extension": ".py",
   "mimetype": "text/x-python",
   "name": "python",
   "nbconvert_exporter": "python",
   "pygments_lexer": "ipython3",
   "version": "3.9.7"
  }
 },
 "nbformat": 4,
 "nbformat_minor": 5
}
